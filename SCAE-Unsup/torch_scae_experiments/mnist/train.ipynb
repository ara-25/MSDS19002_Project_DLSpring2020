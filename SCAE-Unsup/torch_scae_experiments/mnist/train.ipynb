{
  "nbformat": 4,
  "nbformat_minor": 0,
  "metadata": {
    "accelerator": "GPU",
    "colab": {
      "name": "torch_scae_lightning.ipynb",
      "provenance": [],
      "collapsed_sections": [],
      "toc_visible": true
    },
    "kernelspec": {
      "display_name": "Python 3",
      "language": "python",
      "name": "python3"
    },
    "language_info": {
      "codemirror_mode": {
        "name": "ipython",
        "version": 3
      },
      "file_extension": ".py",
      "mimetype": "text/x-python",
      "name": "python",
      "nbconvert_exporter": "python",
      "pygments_lexer": "ipython3",
      "version": "3.7.4"
    }
  },
  "cells": [
    {
      "cell_type": "code",
      "metadata": {
        "colab_type": "code",
        "id": "GhA7_OSnk3OP",
        "colab": {}
      },
      "source": [
        "%%shell\n",
        "\n",
        "rm -rf ./torch-scae\n",
        "git clone https://github.com/bdsaglam/torch-scae\n",
        "cd ./torch-scae\n",
        "pip install -q ."
      ],
      "execution_count": 0,
      "outputs": []
    },
    {
      "cell_type": "code",
      "metadata": {
        "colab_type": "code",
        "id": "-sPIju7iqTke",
        "colab": {}
      },
      "source": [
        "%load_ext tensorboard\n",
        "\n",
        "!mkdir /content/lightning_logs\n",
        "%tensorboard --logdir '/content/lightning_logs'"
      ],
      "execution_count": 0,
      "outputs": []
    },
    {
      "cell_type": "code",
      "metadata": {
        "colab_type": "code",
        "id": "dt4NYPbMB9Hw",
        "colab": {}
      },
      "source": [
        "import pathlib\n",
        "\n",
        "import numpy as np\n",
        "import torch\n",
        "import torchvision\n",
        "from torch_scae_experiments.mnist.train import train\n",
        "from torch_scae_experiments.mnist.hparams import model_params\n",
        "from pytorch_lightning import seed_everything\n",
        "\n",
        "seed_everything(42)"
      ],
      "execution_count": 0,
      "outputs": []
    },
    {
      "cell_type": "code",
      "metadata": {
        "id": "3wTKz0LFC7KA",
        "colab_type": "code",
        "colab": {}
      },
      "source": [
        "from pprint import pprint\n",
        "\n",
        "pprint(model_params)"
      ],
      "execution_count": 0,
      "outputs": []
    },
    {
      "cell_type": "code",
      "metadata": {
        "id": "ZR9HargqB3OE",
        "colab_type": "code",
        "colab": {}
      },
      "source": [
        "# Customize model parameters\n",
        "\n",
        "# model_params.update(dict(\n",
        "#     n_part_caps=36,\n",
        "#     n_obj_caps=10,\n",
        "#     pcae_template_generator_params=dict(\n",
        "#         template_size=(11, 11),\n",
        "#         template_nonlin='sigmoid',\n",
        "#         colorize_templates=False,\n",
        "#     ),\n",
        "#     scae_params=dict(\n",
        "#         posterior_sparsity_loss_type='entropy',\n",
        "#         posterior_within_example_sparsity_weight=1,\n",
        "#         posterior_between_example_sparsity_weight=1,\n",
        "#     )\n",
        "# ))"
      ],
      "execution_count": 0,
      "outputs": []
    },
    {
      "cell_type": "code",
      "metadata": {
        "colab_type": "code",
        "id": "3iywniQBukSp",
        "colab": {}
      },
      "source": [
        "training_params = dict(\n",
        "    data_dir=str(pathlib.Path.home() / 'torch-datasets'),\n",
        "    gpus=1,\n",
        "    batch_size=128,\n",
        "    num_workers=2,\n",
        "    max_epochs=100,\n",
        "    learning_rate=3e-5,\n",
        "    optimizer_type='RMSprop',\n",
        "    use_lr_scheduler=True,\n",
        "    lr_scheduler_decay_rate=0.997\n",
        ")"
      ],
      "execution_count": 0,
      "outputs": []
    },
    {
      "cell_type": "code",
      "metadata": {
        "colab_type": "code",
        "id": "sEQxMoM6xYSc",
        "scrolled": true,
        "colab": {}
      },
      "source": [
        "torch.cuda.reset_max_memory_cached()\n",
        "torch.cuda.reset_max_memory_allocated()\n",
        "torch.cuda.reset_accumulated_memory_stats()\n",
        "\n",
        "train(model_params, **training_params)"
      ],
      "execution_count": 0,
      "outputs": []
    },
    {
      "cell_type": "code",
      "metadata": {
        "id": "qJPnbxvvDRnS",
        "colab_type": "code",
        "colab": {}
      },
      "source": [
        "# resume training\n",
        "training_params.update(\n",
        "    max_epochs=200,\n",
        "    resume_from_checkpoint= '/content/lightning_logs/version_0/checkpoints/epoch=99.ckpt')\n",
        ")\n",
        "train(model_params, **training_params)"
      ],
      "execution_count": 0,
      "outputs": []
    },
    {
      "cell_type": "code",
      "metadata": {
        "colab_type": "code",
        "id": "ybABn0XqjbcW",
        "colab": {}
      },
      "source": [
        ""
      ],
      "execution_count": 0,
      "outputs": []
    }
  ]
}